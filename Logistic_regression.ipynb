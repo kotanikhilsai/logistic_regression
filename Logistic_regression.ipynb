{
 "cells": [
  {
   "cell_type": "markdown",
   "metadata": {},
   "source": [
    "# Logistic regression"
   ]
  },
  {
   "cell_type": "code",
   "execution_count": 1,
   "metadata": {
    "collapsed": true
   },
   "outputs": [],
   "source": [
    "import numpy as np\n"
   ]
  },
  {
   "cell_type": "code",
   "execution_count": 2,
   "metadata": {
    "collapsed": true
   },
   "outputs": [],
   "source": [
    "def sigmoid(scores):\n",
    "    return 1 / (1 + np.exp(-scores))"
   ]
  },
  {
   "cell_type": "code",
   "execution_count": 3,
   "metadata": {
    "collapsed": true
   },
   "outputs": [],
   "source": [
    "def log_likelihood(features, target, weights):\n",
    "    scores = np.dot(features, weights)\n",
    "    ll = np.sum( target*scores - np.log(1 + np.exp(scores)) )\n",
    "    return ll"
   ]
  },
  {
   "cell_type": "code",
   "execution_count": 4,
   "metadata": {
    "collapsed": true
   },
   "outputs": [],
   "source": [
    "def logistic_regression(features, target, num_steps, learning_rate, add_intercept = False):\n",
    "    if add_intercept:\n",
    "        intercept = np.ones((features.shape[0], 1))\n",
    "        features = np.hstack((intercept, features))\n",
    "        \n",
    "    weights = np.zeros(features.shape[1])\n",
    "    \n",
    "    for step in range(num_steps):\n",
    "        scores = np.dot(features, weights)\n",
    "        predictions = sigmoid(scores)\n",
    "\n",
    "        # Update weights with gradient\n",
    "        output_error_signal = target - predictions\n",
    "        gradient = np.dot(features.T, output_error_signal)\n",
    "        weights += learning_rate * gradient\n",
    "        \n",
    "        # Print log-likelihood every so often\n",
    "        if step % 10000 == 0:\n",
    "            print (log_likelihood(features, target, weights))\n",
    "        \n",
    "    return (weights)"
   ]
  },
  {
   "cell_type": "markdown",
   "metadata": {},
   "source": [
    "# sample data set where x is no of hrs studied and y has 0-fail 1-pass"
   ]
  },
  {
   "cell_type": "code",
   "execution_count": 5,
   "metadata": {
    "collapsed": true
   },
   "outputs": [],
   "source": [
    "x=[0.50,0.75,1.00,1.25,1.50,1.75,1.75,2.00,2.25,2.50,2.75,3.00,3.25,3.50,4.00,4.25,4.50,4.75,5.00,5.50]\n",
    "y=[0,0,0,0,0,0,1,0,1,0,1,0,1,0,1,1,1,1,1,1]"
   ]
  },
  {
   "cell_type": "code",
   "execution_count": 6,
   "metadata": {
    "collapsed": true
   },
   "outputs": [],
   "source": [
    "features=np.vstack(x).astype(np.float32)"
   ]
  },
  {
   "cell_type": "code",
   "execution_count": 7,
   "metadata": {
    "collapsed": true
   },
   "outputs": [],
   "source": [
    "target=np.hstack(y).astype(np.float32)"
   ]
  },
  {
   "cell_type": "code",
   "execution_count": 8,
   "metadata": {},
   "outputs": [
    {
     "name": "stdout",
     "output_type": "stream",
     "text": [
      "-13.8578241911\n",
      "-10.3812183918\n",
      "-9.29589930022\n",
      "-8.77343058198\n",
      "-8.49296719662\n",
      "-8.33028194731\n",
      "-8.23055316224\n",
      "-8.16689536728\n",
      "-8.12500873275\n",
      "-8.09679603858\n",
      "-8.07744218143\n",
      "-8.06397035833\n",
      "-8.05448183288\n",
      "-8.0477343324\n",
      "-8.04289794183\n",
      "-8.03940856335\n",
      "-8.036877215\n",
      "-8.03503241142\n",
      "-8.03368273682\n",
      "-8.03269206511\n",
      "-8.0319628814\n",
      "-8.0314248956\n",
      "-8.03102717295\n",
      "-8.03073263709\n",
      "-8.03051419483\n",
      "-8.03035198232\n",
      "-8.03023139449\n",
      "-8.03014166654\n",
      "-8.03007484747\n",
      "-8.03002505392\n"
     ]
    }
   ],
   "source": [
    "weights = logistic_regression(features, target,\n",
    "                     num_steps = 300000, learning_rate = 5e-5, add_intercept=True)"
   ]
  },
  {
   "cell_type": "code",
   "execution_count": 9,
   "metadata": {},
   "outputs": [
    {
     "data": {
      "text/plain": [
       "array([-4.05172425,  1.49584987])"
      ]
     },
     "execution_count": 9,
     "metadata": {},
     "output_type": "execute_result"
    }
   ],
   "source": [
    "weights"
   ]
  },
  {
   "cell_type": "code",
   "execution_count": 10,
   "metadata": {
    "collapsed": true
   },
   "outputs": [],
   "source": [
    "m,b=weights"
   ]
  },
  {
   "cell_type": "markdown",
   "metadata": {},
   "source": [
    "# log(p(x)/(1-p(x)))=b0+b1*x1"
   ]
  },
  {
   "cell_type": "markdown",
   "metadata": {},
   "source": [
    "# p(x)=1/(1+exp(-(b0+b1*x1)))"
   ]
  },
  {
   "cell_type": "code",
   "execution_count": 11,
   "metadata": {
    "collapsed": true
   },
   "outputs": [],
   "source": [
    "def predict(x):\n",
    "    p=1/(1+np.exp(-(m+b*x)))\n",
    "    if(p>0.5):\n",
    "        print(\"pass\",p)\n",
    "    else:\n",
    "        print(\"fail\",p)"
   ]
  },
  {
   "cell_type": "code",
   "execution_count": 12,
   "metadata": {},
   "outputs": [
    {
     "name": "stdout",
     "output_type": "stream",
     "text": [
      "pass 0.999634936718\n"
     ]
    }
   ],
   "source": [
    "predict(8)"
   ]
  },
  {
   "cell_type": "code",
   "execution_count": 13,
   "metadata": {},
   "outputs": [
    {
     "name": "stdout",
     "output_type": "stream",
     "text": [
      "pass 0.607263850195\n"
     ]
    }
   ],
   "source": [
    "predict(3)"
   ]
  },
  {
   "cell_type": "code",
   "execution_count": 18,
   "metadata": {},
   "outputs": [
    {
     "name": "stdout",
     "output_type": "stream",
     "text": [
      "fail 0.257304771554\n"
     ]
    }
   ],
   "source": [
    "predict(2)"
   ]
  },
  {
   "cell_type": "code",
   "execution_count": 19,
   "metadata": {},
   "outputs": [
    {
     "name": "stdout",
     "output_type": "stream",
     "text": [
      "fail 0.422602340258\n"
     ]
    }
   ],
   "source": [
    "predict(2.5)"
   ]
  },
  {
   "cell_type": "code",
   "execution_count": 20,
   "metadata": {},
   "outputs": [
    {
     "name": "stdout",
     "output_type": "stream",
     "text": [
      "pass 0.515460793665\n"
     ]
    }
   ],
   "source": [
    "predict(2.75)"
   ]
  },
  {
   "cell_type": "code",
   "execution_count": 22,
   "metadata": {},
   "outputs": [
    {
     "name": "stdout",
     "output_type": "stream",
     "text": [
      "[[ 0.5 ]\n",
      " [ 0.75]\n",
      " [ 1.  ]\n",
      " [ 1.25]\n",
      " [ 1.5 ]\n",
      " [ 1.75]\n",
      " [ 1.75]\n",
      " [ 2.  ]\n",
      " [ 2.25]\n",
      " [ 2.5 ]\n",
      " [ 2.75]\n",
      " [ 3.  ]\n",
      " [ 3.25]\n",
      " [ 3.5 ]\n",
      " [ 4.  ]\n",
      " [ 4.25]\n",
      " [ 4.5 ]\n",
      " [ 4.75]\n",
      " [ 5.  ]\n",
      " [ 5.5 ]]\n"
     ]
    }
   ],
   "source": [
    "print(features)"
   ]
  },
  {
   "cell_type": "code",
   "execution_count": 23,
   "metadata": {
    "collapsed": true
   },
   "outputs": [],
   "source": [
    "intercept = np.ones((features.shape[0], 1))\n",
    "features = np.hstack((intercept, features))"
   ]
  },
  {
   "cell_type": "code",
   "execution_count": 24,
   "metadata": {},
   "outputs": [
    {
     "data": {
      "text/plain": [
       "array([[ 1.],\n",
       "       [ 1.],\n",
       "       [ 1.],\n",
       "       [ 1.],\n",
       "       [ 1.],\n",
       "       [ 1.],\n",
       "       [ 1.],\n",
       "       [ 1.],\n",
       "       [ 1.],\n",
       "       [ 1.],\n",
       "       [ 1.],\n",
       "       [ 1.],\n",
       "       [ 1.],\n",
       "       [ 1.],\n",
       "       [ 1.],\n",
       "       [ 1.],\n",
       "       [ 1.],\n",
       "       [ 1.],\n",
       "       [ 1.],\n",
       "       [ 1.]])"
      ]
     },
     "execution_count": 24,
     "metadata": {},
     "output_type": "execute_result"
    }
   ],
   "source": [
    "intercept"
   ]
  },
  {
   "cell_type": "code",
   "execution_count": 25,
   "metadata": {},
   "outputs": [
    {
     "data": {
      "text/plain": [
       "array([[ 1.  ,  0.5 ],\n",
       "       [ 1.  ,  0.75],\n",
       "       [ 1.  ,  1.  ],\n",
       "       [ 1.  ,  1.25],\n",
       "       [ 1.  ,  1.5 ],\n",
       "       [ 1.  ,  1.75],\n",
       "       [ 1.  ,  1.75],\n",
       "       [ 1.  ,  2.  ],\n",
       "       [ 1.  ,  2.25],\n",
       "       [ 1.  ,  2.5 ],\n",
       "       [ 1.  ,  2.75],\n",
       "       [ 1.  ,  3.  ],\n",
       "       [ 1.  ,  3.25],\n",
       "       [ 1.  ,  3.5 ],\n",
       "       [ 1.  ,  4.  ],\n",
       "       [ 1.  ,  4.25],\n",
       "       [ 1.  ,  4.5 ],\n",
       "       [ 1.  ,  4.75],\n",
       "       [ 1.  ,  5.  ],\n",
       "       [ 1.  ,  5.5 ]])"
      ]
     },
     "execution_count": 25,
     "metadata": {},
     "output_type": "execute_result"
    }
   ],
   "source": [
    "features"
   ]
  },
  {
   "cell_type": "code",
   "execution_count": 26,
   "metadata": {
    "collapsed": true
   },
   "outputs": [],
   "source": [
    "weights = np.zeros(features.shape[1])"
   ]
  },
  {
   "cell_type": "code",
   "execution_count": 27,
   "metadata": {},
   "outputs": [
    {
     "data": {
      "text/plain": [
       "array([ 0.,  0.])"
      ]
     },
     "execution_count": 27,
     "metadata": {},
     "output_type": "execute_result"
    }
   ],
   "source": [
    "weights\n"
   ]
  },
  {
   "cell_type": "code",
   "execution_count": null,
   "metadata": {
    "collapsed": true
   },
   "outputs": [],
   "source": []
  }
 ],
 "metadata": {
  "kernelspec": {
   "display_name": "Python 3",
   "language": "python",
   "name": "python3"
  },
  "language_info": {
   "codemirror_mode": {
    "name": "ipython",
    "version": 3
   },
   "file_extension": ".py",
   "mimetype": "text/x-python",
   "name": "python",
   "nbconvert_exporter": "python",
   "pygments_lexer": "ipython3",
   "version": "3.6.1"
  }
 },
 "nbformat": 4,
 "nbformat_minor": 2
}
